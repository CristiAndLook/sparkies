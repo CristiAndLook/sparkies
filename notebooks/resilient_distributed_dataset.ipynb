{
 "cells": [
  {
   "cell_type": "markdown",
   "metadata": {},
   "source": [
    "A continuación se muestra cómo crear un RDD en Spark:\n",
    "Diferentes formas de crear un RDD en Spark"
   ]
  },
  {
   "cell_type": "code",
   "execution_count": 52,
   "metadata": {},
   "outputs": [],
   "source": [
    "from pyspark.sql import SparkSession\n",
    "spark = SparkSession.builder.appName('Sparkies').master('local[*]').getOrCreate()"
   ]
  },
  {
   "cell_type": "code",
   "execution_count": 53,
   "metadata": {},
   "outputs": [],
   "source": [
    "sc = spark.sparkContext"
   ]
  },
  {
   "cell_type": "code",
   "execution_count": 54,
   "metadata": {},
   "outputs": [],
   "source": [
    "#Crear un RDD vacío\n",
    "rdd_1 = sc.emptyRDD()"
   ]
  },
  {
   "cell_type": "code",
   "execution_count": 55,
   "metadata": {},
   "outputs": [
    {
     "data": {
      "text/plain": [
       "4"
      ]
     },
     "execution_count": 55,
     "metadata": {},
     "output_type": "execute_result"
    }
   ],
   "source": [
    "#Crear un RDD con parallelize\n",
    "rdd_2 = sc.parallelize([1,2,3,4,5,6,7,8,9,10], 4)\n",
    "\n",
    "#Número de particiones\t\n",
    "rdd_2.getNumPartitions()"
   ]
  },
  {
   "cell_type": "code",
   "execution_count": 56,
   "metadata": {},
   "outputs": [
    {
     "data": {
      "text/plain": [
       "10"
      ]
     },
     "execution_count": 56,
     "metadata": {},
     "output_type": "execute_result"
    }
   ],
   "source": [
    "#Número de elementos\n",
    "rdd_2.count()"
   ]
  },
  {
   "cell_type": "code",
   "execution_count": 57,
   "metadata": {},
   "outputs": [
    {
     "data": {
      "text/plain": [
       "[1, 2, 3, 4, 5, 6, 7, 8, 9, 10]"
      ]
     },
     "execution_count": 57,
     "metadata": {},
     "output_type": "execute_result"
    }
   ],
   "source": [
    "#Muestra los elementos del RDD\n",
    "rdd_2.collect()  "
   ]
  },
  {
   "cell_type": "code",
   "execution_count": 58,
   "metadata": {},
   "outputs": [
    {
     "data": {
      "text/plain": [
       "[[1, 2], [3, 4], [5, 6], [7, 8, 9, 10]]"
      ]
     },
     "execution_count": 58,
     "metadata": {},
     "output_type": "execute_result"
    }
   ],
   "source": [
    "#Muestra los elementos del RDD por particiones\n",
    "rdd_2.glom().collect()"
   ]
  },
  {
   "cell_type": "code",
   "execution_count": 59,
   "metadata": {},
   "outputs": [
    {
     "data": {
      "text/plain": [
       "['Así podemos crear', 'un RDD desde un', 'archivo de texto!!!']"
      ]
     },
     "execution_count": 59,
     "metadata": {},
     "output_type": "execute_result"
    }
   ],
   "source": [
    "#Crear un RDD a partir de un fichero\n",
    "rdd_3 = sc.textFile(\"./work/sources/rdd_source.txt\")\n",
    "\n",
    "#Muestra los elementos del RDD\n",
    "rdd_3.collect()"
   ]
  },
  {
   "cell_type": "code",
   "execution_count": 60,
   "metadata": {},
   "outputs": [
    {
     "data": {
      "text/plain": [
       "[1, 4, 9, 16, 25, 36, 49, 64, 81, 100]"
      ]
     },
     "execution_count": 60,
     "metadata": {},
     "output_type": "execute_result"
    }
   ],
   "source": [
    "#RDD usando map\n",
    "rdd_4 = rdd_2.map(lambda x: x**2)\n",
    "\n",
    "#Muestra los elementos del RDD\n",
    "rdd_4.collect()"
   ]
  },
  {
   "cell_type": "code",
   "execution_count": 61,
   "metadata": {},
   "outputs": [
    {
     "data": {
      "text/plain": [
       "[2, 4, 6, 8, 10]"
      ]
     },
     "execution_count": 61,
     "metadata": {},
     "output_type": "execute_result"
    }
   ],
   "source": [
    "#RDD usando filter\n",
    "rdd_5 = rdd_2.filter(lambda x: x%2 == 0)\n",
    "\n",
    "#Muestra los elementos del RDD\n",
    "rdd_5.collect()"
   ]
  },
  {
   "cell_type": "code",
   "execution_count": 62,
   "metadata": {},
   "outputs": [
    {
     "data": {
      "text/plain": [
       "[Row(Col1='a', Col2=1),\n",
       " Row(Col1='b', Col2=2),\n",
       " Row(Col1='c', Col2=3),\n",
       " Row(Col1='d', Col2=4)]"
      ]
     },
     "execution_count": 62,
     "metadata": {},
     "output_type": "execute_result"
    }
   ],
   "source": [
    "#Crear un RDD a partir de un dataframe\n",
    "df = spark.createDataFrame([(\"a\", 1), (\"b\", 2), (\"c\",  3), (\"d\", 4)], [\"Col1\", \"Col2\"])\n",
    "rdd_5 = df.rdd\n",
    "\n",
    "#Muestra los elementos del RDD  \n",
    "rdd_5.collect()"
   ]
  }
 ],
 "metadata": {
  "kernelspec": {
   "display_name": "Python 3 (ipykernel)",
   "language": "python",
   "name": "python3"
  },
  "language_info": {
   "codemirror_mode": {
    "name": "ipython",
    "version": 3
   },
   "file_extension": ".py",
   "mimetype": "text/x-python",
   "name": "python",
   "nbconvert_exporter": "python",
   "pygments_lexer": "ipython3",
   "version": "3.11.6"
  }
 },
 "nbformat": 4,
 "nbformat_minor": 2
}
